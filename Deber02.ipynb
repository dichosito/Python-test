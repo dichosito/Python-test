{
 "cells": [
  {
   "cell_type": "markdown",
   "metadata": {},
   "source": [
    "# Deber 01\n",
    "Cada problema vale 10 puntos."
   ]
  },
  {
   "cell_type": "markdown",
   "metadata": {},
   "source": [
    "## Problema 1\n",
    "La fórmula de Manning para calcular la velocidad del agua en un canal rectangular abierto es\n",
    "$$ U = \\frac{\\sqrt{S}}{n} \\left( \\frac{BH}{B+2H} \\right)^{2/3} $$\n",
    "donde $U$ es la velocidad (m/s), $S$ es la pendiente, $n$ es el coeficiente de rugosidad, $B$ es el ancho (m) y $H$ es la profundidad (m).\n",
    "\n",
    "La información de 5 canales está dada en la variable canales de forma que canales[i] es una lista de 4 elementos que incluye $n$, $S$, $B$, $H$ en ese orden. Por ejemplo, canales[2][2] es el ancho del tercer canal (los índices comienzan desde 0).\n",
    "\n",
    "Calcular la velocidad $U$ para cada canal y mostrar para cada uno un mensaje como el siguiente:\n",
    "La velocidad del canal 1 es igual a 3.4567 m/s.\n",
    "\n"
   ]
  },
  {
   "cell_type": "code",
   "execution_count": null,
   "metadata": {},
   "outputs": [],
   "source": [
    "canales = [[0.035,0.0001,10,2],[0.020,0.0002,8,1],[0.015,0.001,20,1.5],\n",
    "           [0.030,0.0007,24,3],[0.022,0.0003,15,2.5]]\n",
    "\n",
    "# Escribe tu codigo aqui\n",
    "\n",
    "print('La velocidad del canal', i , 'es igual a', U, 'm/s.')\n"
   ]
  },
  {
   "attachments": {
    "image.png": {
     "image/png": "[encoded data removed]"
    }
   },
   "cell_type": "markdown",
   "metadata": {},
   "source": [
    "## Problema 2\n",
    "Un tanque de agua tiene forma cilíndrica con una base cónica y la siguiente figura muestra una elevación del tanque. Para ambas partes el radio interior es $R$, la altura es $2R$ para el cilindro y $R$ para el cono. Sea $d$ la altura de agua medida desde el vértice del cono. \n",
    "\n",
    "![image.png](attachment:image.png)\n",
    "\n",
    "Escribir un programa que calcule el volumen de agua dados $R$ y $d$, si $d$ es mayor que la altura total del tanque mostrar el volumen total del tanque y el mensaje 'Tanque rebosado'.\n",
    "\n",
    "Calcular el volumen para los siguientes valores: $R=10$ y $d \\in \\{ 5,10,15,20,25,30,35\\}$\n",
    "\n",
    "Nota: El volumen de un cilindro de radio $r$ y altura $h$ es $\\pi h r^2 $. El volumen de un cono de radio $r$ y altura $h$ es $\\frac{\\pi}{3} h r^2 $.\n",
    "\n",
    "Si $d>R$, el volumen es igual al volumen total del cono más el volumen de un cilindro.\n",
    "Si $d \\le R$, el volumen es igual al volumen parcial del cono.\n",
    "\n",
    "$\\pi$ se puede llamar usando math.pi del paquete math  (importar primero el paquete math).\n"
   ]
  },
  {
   "cell_type": "code",
   "execution_count": null,
   "metadata": {},
   "outputs": [],
   "source": [
    "import math\n",
    "\n",
    "def volumen_tanque(d,R):\n",
    "    if d<=R:               # Solo la parte del cono\n",
    "        # Escribe aquí tu código\n",
    "        \n",
    "    elif d<=3*R:           # El cono y el cilindro\n",
    "        # Escribe aquí tu código\n",
    "        \n",
    "    else:                  # d>3R no es posible        \n",
    "        # Escribe aquí tu código\n",
    "        print('Tanque rebosado')\n",
    "    return V\n",
    "\n",
    "# Ejecuta tu funcion aqui"
   ]
  },
  {
   "cell_type": "markdown",
   "metadata": {},
   "source": [
    "## Problema 3\n",
    "Se define la sucesión de Fibonacci como sigue:\n",
    "$$ F_1=1, \\quad F_2=1, \\quad F_{n+2}=F_{n+1}+F_{n} \\text{ para } n \\ge 1 $$\n",
    "Por ejemplo, los primeros 8 valores son $1,1,2,3,5,8,13,21$.\n",
    "\n",
    "Escribir una función tal que dado un entero positivo $n$, calcule $F_n$. Calcular $F_{200}$.\n"
   ]
  },
  {
   "cell_type": "code",
   "execution_count": null,
   "metadata": {},
   "outputs": [],
   "source": [
    "def Fibonacci(n):\n",
    "    # Escribe tu codigo aqui\n",
    "    \n",
    "    return F_n\n",
    "\n",
    "# Ejecuta la funcion aqui"
   ]
  },
  {
   "cell_type": "markdown",
   "metadata": {},
   "source": [
    "## Problema 4\n",
    "El máximo común divisor (MCD) se calcula usando el algoritmo de Euclides basado en las propiedades:\n",
    "$$ \\text{Si } a<b \\quad \\text{MCD}(a,b) = \\text{MCD}(a,b-a)  $$\n",
    "$$ \\text{MCD}(a,a) = a  $$\n",
    "La idea consiste en aplicar la primera propiedad hasta que ambos números sean iguales. Por ejemplo:\n",
    "$$ \\text{MCD}(6,15) = \\text{MCD}(6,9) = \\text{MCD}(6,3) = \\text{MCD}(3,3) = 3 $$\n",
    "\n",
    "El mínimo común múltiplo (MCM) se calcula de la siguiente propiedad:\n",
    "$$ \\text{MCD}(a,b) \\cdot \\text{MCM}(a,b) = ab  $$\n",
    "Por ejemplo: $ 3 \\text{MCM}(6,15) = 6 \\cdot 15 = 90 \\implies \\text{MCM}(6,15) = \\frac{90}{3}= 30 $\n",
    "\n",
    "Calcular un programa que dados enteros positivos $a$ y $b$, hallar $\\text{MCD}(a,b)$ y $\\text{MCM}(a,b)$.\n",
    "Calcular $\\text{MCD}(12345678,87654321)$ y $\\text{MCM}(12345678,87654321)$."
   ]
  },
  {
   "cell_type": "code",
   "execution_count": null,
   "metadata": {},
   "outputs": [],
   "source": [
    "def mcd_y_mcm(a,b):\n",
    "    # Escribe tu codigo aqui\n",
    "    \n",
    "    return # Escribe aqui el output\n",
    "\n",
    "# Ejecuta la funcion aqui"
   ]
  },
  {
   "cell_type": "markdown",
   "metadata": {},
   "source": [
    "## Problema 5\n",
    "1. Dado $x \\in \\{1,10^{-1},10^{-2},10^{-3},10^{-4}\\}$, calcular $cos(x)$ 'exactamente' usando la función cos del paquete numpy. Luego calcular las aproximaciones de segundo orden $T_2(x)$ y cuarto orden $T_4(x)$. Calcular el error relativo para cada valor de $x$ y las dos aproximaciones. \n",
    "\n",
    "2. Calcular el error numérico absoluto entre 200 y $\\sum_{i=1}^{2000} 0.1$. Teóricamente debería ser 0. Efectuar la sumatoria usando un ciclo for. Puedes usar np.abs para calcular el valor absoluto. \n",
    "\n",
    "Escribir tus conclusiones de cada parte en el siguiente recuadro."
   ]
  },
  {
   "cell_type": "code",
   "execution_count": null,
   "metadata": {},
   "outputs": [],
   "source": [
    "import numpy as np\n",
    "# Primera parte, completar el codigo\n",
    "x = np.array([1,1e-1,1e-2,1e-3,1e-4])\n",
    "y_real = \n",
    "y_2 = \n",
    "y_4 = \n",
    "error_rel_2 = \n",
    "error_rel_4 =\n",
    "print('Error relativo de segundo orden:', error_rel_2)\n",
    "print('Error relativo de segundo orden:', error_rel_4)\n",
    "\n",
    "# Segunda parte, completar el codigo\n",
    "x_real=200\n",
    "tmp = 0\n",
    "for i in range(2000):\n",
    "    # completar el codigo\n",
    "x_approx = tmp\n",
    "error_abs = \n"
   ]
  },
  {
   "cell_type": "markdown",
   "metadata": {},
   "source": [
    "Conclusiones:\n",
    "1.\n",
    "\n",
    "2."
   ]
  },
  {
   "cell_type": "markdown",
   "metadata": {},
   "source": [
    "## Problema 6\n",
    "Una viga de longitud $L$ tiene el apoyo izquierdo simple y el apoyo derecho empotrado. La viga tiene módulo de elasticidad $E$ e inercia $I$.\n",
    "La viga está sometida a dos cargas independientes:\n",
    "1. Una carga distribuida triangular que tiene magnitud 0 en el apoyo izquierdo y magnitud $w_1$ en el apoyo derecho. En este caso el desplazamiento de la viga $u_1(x)$ en la posición $0 \\le x \\le L$ es igual a\n",
    "$$ u_1(x) = \\frac{w_1}{120 E I L} (-x^5+2L^2x^3-L^4x) $$\n",
    "2. Una carga uniformemente distribuida triangular de magnitud $w_2$. En este caso el desplazamiento de la viga $u_2(x)$ en la posición $0 \\le x \\le L$ es igual a\n",
    "$$ u_2(x) = \\frac{w_2 x}{48 E I} (L^3-3Lx^2+2x^3) $$\n",
    "\n",
    "Dados: $L=6$ m, $E=200 \\times 10^9$ Pa, $I=0.001$ m$^4$, $w_1=2$ kN/m, $w_2=1$ kN/m.\n",
    "\n",
    "Graficar la curva elástica de la viga para carga en la misma figura. Colocar las etiquetas de los ejes y una leyenda. Usar un espaciamiento de 0.01 m."
   ]
  },
  {
   "cell_type": "code",
   "execution_count": null,
   "metadata": {},
   "outputs": [],
   "source": [
    "# Importar paquete de matplotlib\n",
    "\n",
    "# Escribe tu codigo aqui\n",
    "\n",
    "\n",
    "# En el comando plt.plot colocar label='algo' para asignar el nombre de la leyenda\n",
    "\n",
    "plt.xlabel('Posicion (m)')        # Asigna etiqueta al eje x\n",
    "plt.ylabel('Desplazamiento (m)')  # Asigna etiqueta al eje y\n",
    "plt.legend()                      # Genera una leyenda\n"
   ]
  }
 ],
 "metadata": {
  "kernelspec": {
   "display_name": "Python 3",
   "language": "python",
   "name": "python3"
  },
  "language_info": {
   "codemirror_mode": {
    "name": "ipython",
    "version": 3
   },
   "file_extension": ".py",
   "mimetype": "text/x-python",
   "name": "python",
   "nbconvert_exporter": "python",
   "pygments_lexer": "ipython3",
   "version": "3.8.5"
  }
 },
 "nbformat": 4,
 "nbformat_minor": 4
}

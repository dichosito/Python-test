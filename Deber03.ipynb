{
 "cells": [
  {
   "cell_type": "markdown",
   "metadata": {},
   "source": [
    "# Deber 3"
   ]
  },
  {
   "cell_type": "markdown",
   "metadata": {},
   "source": [
    "## Problema 1\n",
    "Conocemos que \n",
    "$$ \\| \\mathbf{A} \\| = \\max \\frac{\\|\\mathbf{Ax} \\|}{\\|\\mathbf{x} \\|} $$\n",
    "donde ${\\mathbf{x}}$ es un vector no nulo.\n",
    "\n",
    "En este problema se va a estimar numéricamente la norma de una matriz de la siguiente forma:\n",
    "1. Eligir distintos vectores ${\\mathbf{x}}_i$ al azar\n",
    "2. Calcular $y_i = \\frac{\\|\\mathbf{Ax}_i \\|}{\\|\\mathbf{x}_i \\|}$ para cada vector\n",
    "3. La norma va a ser el máximo entre todos los valores calculados $y_i$.\n",
    "\n",
    "Notas: \n",
    "* Para esta estimación de la norma se permite usar la función numpy.linalg.norm **únicamente** para calcular la norma de los vectores. \n",
    "* Usar la función numpy.max para calcular el máximo de un arreglo\n",
    "* Usar la función numpy.random.randn para generar los vectores ${\\mathbf{x}}_i$ al azar\n",
    "* A@x se usa para calcular el producto entre la matriz A y el vector x.\n",
    "\n",
    "\n",
    "Dada la matriz\n",
    "$$ \\mathbf{A} = \\begin{bmatrix} 1 & 2 & 3 \\\\ 4 & 5 & 6 \\end{bmatrix} $$\n",
    "\n",
    "a) Estimar $\\|\\mathbf{A}\\|_1$, $\\|\\mathbf{A}\\|_2$ y $\\|\\mathbf{A}\\|_{\\infty}$ usando la metodología explicada anteriormente con 1000 vectores aleatorios (al azar).\n",
    "\n",
    "b) Calcular $\\|\\mathbf{A}\\|_1$, $\\|\\mathbf{A}\\|_2$ y $\\|\\mathbf{A}\\|_{\\infty}$ usando la función numpy.linalg.norm. Comparar con los valores anteriores"
   ]
  },
  {
   "cell_type": "code",
   "execution_count": null,
   "metadata": {},
   "outputs": [],
   "source": [
    "# Importar los paquetes aqui\n",
    "\n",
    "\n",
    "def estimar_norma_mat(A,p,N):    # estimar norma p de matriz A usando N vectores aleatorios\n",
    "    y = np.zeros(N)       # vector para almacenar el cociente entre las normas de vectores\n",
    "    for i in range(N):\n",
    "        # escribe tu codigo aqui\n",
    "        \n",
    "        \n",
    "    return np.max(y)\n",
    "\n",
    "# ejecuta tu codigo aqui\n",
    "\n",
    "\n"
   ]
  },
  {
   "cell_type": "markdown",
   "metadata": {},
   "source": [
    "Conclusiones:\n",
    "\n"
   ]
  },
  {
   "cell_type": "markdown",
   "metadata": {},
   "source": [
    "## Problema 2\n",
    "\n",
    "Sea\n",
    "$$ \\mathbf{A} = \\begin{bmatrix} 1 & 2 \\\\ a & 2 \\end{bmatrix} $$\n",
    "\n",
    "a) Calcular el número de condición de $\\mathbf{A} $ en normas 1, 2 e $\\infty$ cuando $a=1+10^{-k}$ para $k=1,2,3,4,5,6$.\n",
    "\n",
    "b) Calcular el número de condición de $\\mathbf{A} $ en normas 1, 2 e $\\infty$ cuando $a=10^{k}$ para $k=1,2,3,4,5,6$.\n",
    "\n",
    "c) De acuerdo a los resultados obtenidos, ¿en qué casos una matriz es *mal condicionada*?"
   ]
  },
  {
   "cell_type": "code",
   "execution_count": null,
   "metadata": {},
   "outputs": [],
   "source": [
    "# escribe tu codigo aqui\n",
    "\n",
    "\n",
    "\n",
    "\n",
    "\n",
    "\n"
   ]
  },
  {
   "cell_type": "markdown",
   "metadata": {},
   "source": [
    "Conclusiones:\n",
    "\n"
   ]
  },
  {
   "cell_type": "markdown",
   "metadata": {},
   "source": [
    "## Problema 3\n",
    "\n",
    "Sea\n",
    "$$ \\mathbf{A} = \\begin{bmatrix} 1 & 2 \\\\ a & 2 \\end{bmatrix} $$\n",
    "Considerar dos casos: $a=10$ y $a=10^6$.\n",
    "\n",
    "a) Dados\n",
    "$$ \\mathbf{b} = \\begin{bmatrix} 1 \\\\ 1 \\end{bmatrix}, \\quad  \\mathbf{\\Delta b} = \\begin{bmatrix} 10^{-5} \\\\ -10^{-5} \\end{bmatrix} $$\n",
    "Para cada valor de $a$, calcular la solución verdadera del sistema, la solución aproximada y el error relativo de la solución. Comparar con los valores estimados por el resultado teórico.\n",
    "\n",
    "b) Dados\n",
    "$$ \\mathbf{b} = \\begin{bmatrix} 1 \\\\ 1 \\end{bmatrix} , \\quad \\mathbf{\\Delta A} = \\begin{bmatrix} 10^{-5} & 10^{-5} \\\\ -10^{-5} & -10^{-5} \\end{bmatrix} $$\n",
    "Para cada valor de $a$, calcular la solución verdadera del sistema, la solución aproximada y el error relativo de la solución. Comparar con los valores estimados por el resultado teórico.\n",
    "\n",
    "c) De acuerdo a los resultados obtenidos, ¿qué efecto tiene una matriz *mal condicionada* sobre la solución?"
   ]
  },
  {
   "cell_type": "code",
   "execution_count": null,
   "metadata": {},
   "outputs": [],
   "source": [
    "# escribe tu codigo aqui\n",
    "\n",
    "\n",
    "\n",
    "\n",
    "\n"
   ]
  },
  {
   "cell_type": "markdown",
   "metadata": {},
   "source": [
    "Conclusiones:\n"
   ]
  }
 ],
 "metadata": {
  "kernelspec": {
   "display_name": "Python 3",
   "language": "python",
   "name": "python3"
  },
  "language_info": {
   "codemirror_mode": {
    "name": "ipython",
    "version": 3
   },
   "file_extension": ".py",
   "mimetype": "text/x-python",
   "name": "python",
   "nbconvert_exporter": "python",
   "pygments_lexer": "ipython3",
   "version": "3.8.5"
  }
 },
 "nbformat": 4,
 "nbformat_minor": 4
}

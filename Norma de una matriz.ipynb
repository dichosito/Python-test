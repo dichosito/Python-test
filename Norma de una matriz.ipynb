{
 "cells": [
  {
   "cell_type": "code",
   "execution_count": 1,
   "metadata": {},
   "outputs": [],
   "source": [
    "import numpy as np"
   ]
  },
  {
   "cell_type": "code",
   "execution_count": 2,
   "metadata": {},
   "outputs": [],
   "source": [
    "A = np.array([[1,2,3],\n",
    "              [4,5,6]\n",
    "             ])"
   ]
  },
  {
   "cell_type": "code",
   "execution_count": 3,
   "metadata": {},
   "outputs": [
    {
     "data": {
      "text/plain": [
       "array([[1, 2, 3],\n",
       "       [4, 5, 6]])"
      ]
     },
     "execution_count": 3,
     "metadata": {},
     "output_type": "execute_result"
    }
   ],
   "source": [
    "A # matriz "
   ]
  },
  {
   "cell_type": "code",
   "execution_count": 4,
   "metadata": {},
   "outputs": [],
   "source": [
    "x = np.random.randn(1000,3)"
   ]
  },
  {
   "cell_type": "code",
   "execution_count": 5,
   "metadata": {},
   "outputs": [
    {
     "data": {
      "text/plain": [
       "array([[-0.94974135,  1.35310907,  0.15223081],\n",
       "       [ 0.83065705,  0.88599104, -0.00963999],\n",
       "       [ 0.06617146, -1.00556386, -0.6279752 ],\n",
       "       ...,\n",
       "       [-0.07950306, -0.17573363,  0.16627613],\n",
       "       [-0.69607751,  1.78890951, -0.73356047],\n",
       "       [ 0.76668936,  0.60001827, -2.01912148]])"
      ]
     },
     "execution_count": 5,
     "metadata": {},
     "output_type": "execute_result"
    }
   ],
   "source": [
    "x # muestra de 1000 vectores de dimensión 3"
   ]
  },
  {
   "cell_type": "code",
   "execution_count": 6,
   "metadata": {},
   "outputs": [],
   "source": [
    "def norm(A,x,orden):\n",
    "    normas = np.array([])\n",
    "    for xi in x:\n",
    "        razon = np.linalg.norm(A@xi,orden)/np.linalg.norm(xi,orden)\n",
    "        normas= np.append(normas,[razon])\n",
    "    return np.max(normas)"
   ]
  },
  {
   "cell_type": "code",
   "execution_count": 7,
   "metadata": {},
   "outputs": [
    {
     "data": {
      "text/plain": [
       "14.673178519776533"
      ]
     },
     "execution_count": 7,
     "metadata": {},
     "output_type": "execute_result"
    }
   ],
   "source": [
    "norm(A,x,np.inf)"
   ]
  },
  {
   "cell_type": "code",
   "execution_count": 8,
   "metadata": {},
   "outputs": [
    {
     "name": "stdout",
     "output_type": "stream",
     "text": [
      "           |-------||A||1-------|-------||A||2-------|------||A||oo-------\n",
      "Aproximado |   8.876323336563633|   9.506037376966146|  14.673178519776533\n",
      "Exacto     |                 9.0|   9.508032000695724|                15.0\n"
     ]
    }
   ],
   "source": [
    "ordenes = [1,2,np.inf]\n",
    "aproximado = [norm(A,x,orden) for orden in ordenes]\n",
    "real = [np.linalg.norm(A,orden) for orden in ordenes]\n",
    "\n",
    "print(f\"{'':11}|{'||A||1':-^20}|{'||A||2':-^20}|{'||A||oo':-^20}\")\n",
    "print(\"|\".join([\"Aproximado \"]+[f\"{x:20}\" for x in aproximado]))\n",
    "print(\"|\".join([\"Exacto     \"]+[f\"{x:20}\" for x in real]))"
   ]
  },
  {
   "cell_type": "code",
   "execution_count": null,
   "metadata": {},
   "outputs": [],
   "source": []
  }
 ],
 "metadata": {
  "kernelspec": {
   "display_name": "Python 3",
   "language": "python",
   "name": "python3"
  },
  "language_info": {
   "codemirror_mode": {
    "name": "ipython",
    "version": 3
   },
   "file_extension": ".py",
   "mimetype": "text/x-python",
   "name": "python",
   "nbconvert_exporter": "python",
   "pygments_lexer": "ipython3",
   "version": "3.8.2"
  }
 },
 "nbformat": 4,
 "nbformat_minor": 4
}
